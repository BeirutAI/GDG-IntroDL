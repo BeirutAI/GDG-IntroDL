{
  "nbformat": 4,
  "nbformat_minor": 0,
  "metadata": {
    "colab": {
      "name": "00_DeepLearningModels_Keras",
      "provenance": [],
      "collapsed_sections": [
        "jzqXONrQeOXw",
        "dBVW-qoPh7Od",
        "g8vICr6_icee",
        "UVZTAnU7kldM",
        "-Cn2GOYfq6N4",
        "0D9yPyzikUb5"
      ],
      "toc_visible": true,
      "include_colab_link": true
    },
    "kernelspec": {
      "name": "python3",
      "display_name": "Python 3"
    }
  },
  "cells": [
    {
      "cell_type": "markdown",
      "metadata": {
        "id": "view-in-github",
        "colab_type": "text"
      },
      "source": [
        "<a href=\"https://colab.research.google.com/github/BeirutAI/GDG-IntroDL/blob/master/DeepLearningModels_Keras.ipynb\" target=\"_parent\"><img src=\"https://colab.research.google.com/assets/colab-badge.svg\" alt=\"Open In Colab\"/></a>"
      ]
    },
    {
      "cell_type": "markdown",
      "metadata": {
        "id": "jzqXONrQeOXw",
        "colab_type": "text"
      },
      "source": [
        "# Deep Learning Models with Keras\n",
        "\n",
        "## Defining Sequential model"
      ]
    },
    {
      "cell_type": "code",
      "metadata": {
        "id": "j8nSbmRKeHNU",
        "colab_type": "code",
        "colab": {}
      },
      "source": [
        "from keras.models import Sequential\n",
        "from keras.layers import Dense, Activation\n",
        "\n",
        "model = Sequential() \n",
        "model.add(Dense(4, input_dim=2)) \n",
        "model.add(Activation(\"relu\"))\n",
        "model.add(Dense(1)) \n",
        "model.add(Activation(\"sigmoid\"))\n",
        "          \n",
        "# print model\n",
        "model.summary()"
      ],
      "execution_count": 0,
      "outputs": []
    },
    {
      "cell_type": "markdown",
      "metadata": {
        "id": "dBVW-qoPh7Od",
        "colab_type": "text"
      },
      "source": [
        "## Visualize model"
      ]
    },
    {
      "cell_type": "code",
      "metadata": {
        "id": "ia5n5YUmfDzE",
        "colab_type": "code",
        "colab": {}
      },
      "source": [
        "from keras.utils.vis_utils import plot_model\n",
        "\n",
        "plot_model(model, to_file='model_plot.png', show_shapes=True, show_layer_names=True)"
      ],
      "execution_count": 0,
      "outputs": []
    },
    {
      "cell_type": "markdown",
      "metadata": {
        "id": "g8vICr6_icee",
        "colab_type": "text"
      },
      "source": [
        "## Simple model"
      ]
    },
    {
      "cell_type": "code",
      "metadata": {
        "id": "ZuHfFxoVh-vm",
        "colab_type": "code",
        "colab": {}
      },
      "source": [
        "simple_model = Sequential() \n",
        "simple_model.add(Dense(4, input_dim=2, activation='relu')) \n",
        "simple_model.add(Dense(1, activation=\"sigmoid\")) \n",
        "simple_model.summary()"
      ],
      "execution_count": 0,
      "outputs": []
    },
    {
      "cell_type": "code",
      "metadata": {
        "id": "AaKY6H7RijMK",
        "colab_type": "code",
        "colab": {}
      },
      "source": [
        "plot_model(simple_model, to_file='simple_model_plot.png', show_shapes=True, show_layer_names=True)"
      ],
      "execution_count": 0,
      "outputs": []
    },
    {
      "cell_type": "markdown",
      "metadata": {
        "id": "UVZTAnU7kldM",
        "colab_type": "text"
      },
      "source": [
        "# Functional API\n"
      ]
    },
    {
      "cell_type": "code",
      "metadata": {
        "id": "w3BOdjdpkoBG",
        "colab_type": "code",
        "colab": {}
      },
      "source": [
        "from keras.utils import plot_model\n",
        "from keras.models import Model\n",
        "from keras.layers import Input\n",
        "from keras.layers import Dense\n",
        "\n",
        "# define input\n",
        "visible = Input(shape=(10,))\n",
        "\n",
        "# connect layers\n",
        "hidden1 = Dense(10, activation='relu')(visible)\n",
        "hidden2 = Dense(20, activation='relu')(hidden1)\n",
        "hidden3 = Dense(10, activation='relu')(hidden2)\n",
        "output = Dense(1, activation='sigmoid')(hidden3)\n",
        "\n",
        "# finally, we create the model\n",
        "model = Model(inputs=visible, outputs=output)\n",
        "\n",
        "# summarize layers\n",
        "model.summary()\n",
        "\n",
        "# plot graph\n",
        "plot_model(model, to_file='multilayer_perceptron_graph.png',  show_shapes=True, show_layer_names=True)"
      ],
      "execution_count": 0,
      "outputs": []
    },
    {
      "cell_type": "markdown",
      "metadata": {
        "id": "-Cn2GOYfq6N4",
        "colab_type": "text"
      },
      "source": [
        "# Model training"
      ]
    },
    {
      "cell_type": "code",
      "metadata": {
        "id": "yRfi6nViq8Ol",
        "colab_type": "code",
        "colab": {}
      },
      "source": [
        "# build model\n",
        "model = Sequential()\n",
        "model.add(Dense(32, activation='relu', input_dim=100))\n",
        "model.add(Dense(1, activation='sigmoid'))\n",
        "\n",
        "# compile model\n",
        "model.compile(optimizer='rmsprop',\n",
        "              loss='binary_crossentropy',\n",
        "              metrics=['accuracy'])\n",
        "\n",
        "# Generate dummy data\n",
        "import numpy as np\n",
        "data = np.random.random((1000, 100))\n",
        "labels = np.random.randint(2, size=(1000, 1))\n",
        "\n",
        "# Train the model, iterating on the data in batches of 32 samples\n",
        "model.fit(data, labels, epochs=10, batch_size=32)\n",
        "\n",
        "# save model\n",
        "model.save(\"model.h5\")\n",
        "print(\"Model trained and saved!\")"
      ],
      "execution_count": 0,
      "outputs": []
    },
    {
      "cell_type": "code",
      "metadata": {
        "id": "nXX91qlYro-T",
        "colab_type": "code",
        "colab": {}
      },
      "source": [
        "from keras.models import load_model\n",
        "\n",
        "# load model\n",
        "loaded_model = load_model(\"model.h5\")\n",
        "\n",
        "# predict\n",
        "data_example = np.random.random((1, 100))\n",
        "loaded_model.predict(data_example)\n"
      ],
      "execution_count": 0,
      "outputs": []
    },
    {
      "cell_type": "markdown",
      "metadata": {
        "id": "0D9yPyzikUb5",
        "colab_type": "text"
      },
      "source": [
        "# Custom model\n",
        "\n",
        "Let's build this model using Sequential & Functional API\n",
        "![alt text](https://miro.medium.com/max/1400/1*3fA77_mLNiJTSgZFhYnU0Q@2x.png)"
      ]
    }
  ]
}