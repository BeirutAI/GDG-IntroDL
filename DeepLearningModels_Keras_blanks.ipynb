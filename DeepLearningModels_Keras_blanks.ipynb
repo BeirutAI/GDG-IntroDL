{
  "nbformat": 4,
  "nbformat_minor": 0,
  "metadata": {
    "colab": {
      "name": "DeepLearningModels_Keras_blanks",
      "provenance": [],
      "collapsed_sections": [
        "dBVW-qoPh7Od",
        "g8vICr6_icee",
        "UVZTAnU7kldM"
      ],
      "toc_visible": true,
      "include_colab_link": true
    },
    "kernelspec": {
      "name": "python3",
      "display_name": "Python 3"
    }
  },
  "cells": [
    {
      "cell_type": "markdown",
      "metadata": {
        "id": "view-in-github",
        "colab_type": "text"
      },
      "source": [
        "<a href=\"https://colab.research.google.com/github/BeirutAI/GDG-IntroDL/blob/master/DeepLearningModels_Keras_blanks.ipynb\" target=\"_parent\"><img src=\"https://colab.research.google.com/assets/colab-badge.svg\" alt=\"Open In Colab\"/></a>"
      ]
    },
    {
      "cell_type": "markdown",
      "metadata": {
        "id": "jzqXONrQeOXw",
        "colab_type": "text"
      },
      "source": [
        "# Deep Learning Models with Keras\n",
        "\n",
        "## Defining Sequential model"
      ]
    },
    {
      "cell_type": "code",
      "metadata": {
        "id": "j8nSbmRKeHNU",
        "colab_type": "code",
        "colab": {}
      },
      "source": [
        "from keras.models import Sequential\n",
        "from keras.layers import Dense, Activation\n",
        "\n",
        "model = Sequential() \n",
        "model.add(Dense(4, input_dim=2)) \n",
        "model.add(Activation(\"relu\"))\n",
        "model.add(Dense(1)) \n",
        "model.add(Activation(\"sigmoid\"))\n",
        "          \n",
        "# print model\n",
        "model.summary()"
      ],
      "execution_count": 0,
      "outputs": []
    },
    {
      "cell_type": "markdown",
      "metadata": {
        "id": "dBVW-qoPh7Od",
        "colab_type": "text"
      },
      "source": [
        "## Visualize model"
      ]
    },
    {
      "cell_type": "code",
      "metadata": {
        "id": "ia5n5YUmfDzE",
        "colab_type": "code",
        "colab": {}
      },
      "source": [
        "from keras.utils.vis_utils import plot_model\n",
        "\n",
        "plot_model(model, to_file='model_plot.png', show_shapes=True, show_layer_names=True)"
      ],
      "execution_count": 0,
      "outputs": []
    },
    {
      "cell_type": "markdown",
      "metadata": {
        "id": "g8vICr6_icee",
        "colab_type": "text"
      },
      "source": [
        "## Simple model"
      ]
    },
    {
      "cell_type": "code",
      "metadata": {
        "id": "ZuHfFxoVh-vm",
        "colab_type": "code",
        "colab": {}
      },
      "source": [
        "simple_model = Sequential() \n",
        "simple_model.add(Dense(4, input_dim=2, activation='relu')) \n",
        "simple_model.add(Dense(1, activation=\"sigmoid\")) \n",
        "simple_model.summary()"
      ],
      "execution_count": 0,
      "outputs": []
    },
    {
      "cell_type": "code",
      "metadata": {
        "id": "AaKY6H7RijMK",
        "colab_type": "code",
        "colab": {}
      },
      "source": [
        "plot_model(simple_model, to_file='simple_model_plot.png', show_shapes=True, show_layer_names=True)"
      ],
      "execution_count": 0,
      "outputs": []
    },
    {
      "cell_type": "markdown",
      "metadata": {
        "id": "UVZTAnU7kldM",
        "colab_type": "text"
      },
      "source": [
        "# Functional API\n"
      ]
    },
    {
      "cell_type": "code",
      "metadata": {
        "id": "w3BOdjdpkoBG",
        "colab_type": "code",
        "colab": {}
      },
      "source": [
        "from keras.utils import plot_model\n",
        "from keras.models import Model\n",
        "from keras.layers import Input\n",
        "from keras.layers import Dense\n",
        "\n",
        "# define input\n",
        "visible = Input(shape=(10,))\n",
        "\n",
        "# connect layers\n",
        "hidden1 = Dense(10, activation='relu')(visible)\n",
        "hidden2 = Dense(20, activation='relu')(hidden1)\n",
        "hidden3 = Dense(10, activation='relu')(hidden2)\n",
        "output = Dense(1, activation='sigmoid')(hidden3)\n",
        "\n",
        "# finally, we create the model\n",
        "model = Model(inputs=visible, outputs=output)\n",
        "\n",
        "# summarize layers\n",
        "model.summary()\n",
        "\n",
        "# plot graph\n",
        "plot_model(model, to_file='multilayer_perceptron_graph.png',  show_shapes=True, show_layer_names=True)"
      ],
      "execution_count": 0,
      "outputs": []
    },
    {
      "cell_type": "markdown",
      "metadata": {
        "id": "-Cn2GOYfq6N4",
        "colab_type": "text"
      },
      "source": [
        "# Model training"
      ]
    },
    {
      "cell_type": "code",
      "metadata": {
        "id": "yRfi6nViq8Ol",
        "colab_type": "code",
        "colab": {}
      },
      "source": [
        "# build model\n",
        "model = Sequential()\n",
        "model.add(Dense(32, activation='relu', input_dim=100))\n",
        "model.add(Dense(1, activation='sigmoid'))\n",
        "\n",
        "# compile model\n",
        "model.compile(optimizer='rmsprop',\n",
        "              loss='binary_crossentropy',\n",
        "              metrics=['accuracy'])\n",
        "\n",
        "# Generate dummy data\n",
        "import numpy as np\n",
        "data = np.random.random((1000, 100))\n",
        "labels = np.random.randint(2, size=(1000, 1))\n",
        "\n",
        "# Train the model, iterating on the data in batches of 32 samples\n",
        "model.fit(data, labels, epochs=10, batch_size=32)\n",
        "\n",
        "# save model\n",
        "model.save(\"model.h5\")\n",
        "print(\"Model trained and saved!\")"
      ],
      "execution_count": 0,
      "outputs": []
    },
    {
      "cell_type": "code",
      "metadata": {
        "id": "nXX91qlYro-T",
        "colab_type": "code",
        "colab": {}
      },
      "source": [
        "from keras.models import load_model\n",
        "\n",
        "# load model\n",
        "loaded_model = load_model(\"model.h5\")\n",
        "\n",
        "# predict\n",
        "data_example = np.random.random((1, 100))\n",
        "loaded_model.predict(data_example)\n"
      ],
      "execution_count": 0,
      "outputs": []
    },
    {
      "cell_type": "markdown",
      "metadata": {
        "id": "0D9yPyzikUb5",
        "colab_type": "text"
      },
      "source": [
        "# Task: Custom model\n",
        "\n",
        "Let's build this model using Sequential & Functional API\n",
        "![alt text](https://miro.medium.com/max/1400/1*3fA77_mLNiJTSgZFhYnU0Q@2x.png)"
      ]
    },
    {
      "cell_type": "code",
      "metadata": {
        "id": "5bCCzRCQrOtD",
        "colab_type": "code",
        "colab": {}
      },
      "source": [
        "# code for Sequential model"
      ],
      "execution_count": 0,
      "outputs": []
    },
    {
      "cell_type": "code",
      "metadata": {
        "id": "Cnxt7oFXrSWe",
        "colab_type": "code",
        "colab": {}
      },
      "source": [
        "# code for Functional API"
      ],
      "execution_count": 0,
      "outputs": []
    },
    {
      "cell_type": "markdown",
      "metadata": {
        "id": "DLNgR1MNqpiy",
        "colab_type": "text"
      },
      "source": [
        "## Multi-class classification with Iris Dataset"
      ]
    },
    {
      "cell_type": "code",
      "metadata": {
        "id": "taL1E1akDvww",
        "colab_type": "code",
        "colab": {}
      },
      "source": [
        "# clone github repo to get datasets\n",
        "!git clone https://github.com/BeirutAI/GDG-IntroDL.git\n",
        "\n",
        "# move into repo directory\n",
        "%cd GDG-IntroDL/"
      ],
      "execution_count": 0,
      "outputs": []
    },
    {
      "cell_type": "code",
      "metadata": {
        "id": "xei9cEnEqxxt",
        "colab_type": "code",
        "colab": {}
      },
      "source": [
        "import numpy as np\n",
        "\n",
        "from sklearn.datasets import load_iris\n",
        "from sklearn.model_selection import train_test_split\n",
        "from sklearn.preprocessing import LabelEncoder\n",
        "\n",
        "from keras.utils import np_utils\n",
        "from keras.models import Sequential\n",
        "from keras.layers import Dense\n",
        "\n",
        "# load the iris dataset\n",
        "iris_data = load_iris()\n",
        "\n",
        "print('Example data: ')\n",
        "print(iris_data.data[:5])\n",
        "print('Example labels: ')\n",
        "print(iris_data.target[:5])\n",
        "\n",
        "x = iris_data.data\n",
        "y_ = iris_data.target.reshape(-1, 1) # Convert data to a single column\n",
        "\n",
        "# convert output classes to dummy variables (i.e. one hot encoded)\n",
        "# FILL BLANKS \n",
        "\n",
        "# Split the data for training and testing\n",
        "train_x, test_x, train_y, test_y = train_test_split(x, y, test_size=0.20)\n",
        "\n",
        "# Build the model\n",
        "# FILL BLANKS \n",
        "\n",
        "print('Neural Network Model Summary: ')\n",
        "print(model.summary())\n",
        "\n",
        "# Train the model\n",
        "model.fit(train_x, train_y, verbose=2, batch_size=5, epochs=100)\n",
        "\n",
        "# Test on unseen data\n",
        "results = model.evaluate(test_x, test_y)\n",
        "\n",
        "print('Final test set loss: {:4f}'.format(results[0]))\n",
        "print('Final test set accuracy: {:4f}'.format(results[1]))"
      ],
      "execution_count": 0,
      "outputs": []
    },
    {
      "cell_type": "markdown",
      "metadata": {
        "id": "QHa_1z21wJ1h",
        "colab_type": "text"
      },
      "source": [
        "## Binary classification with Sonar dataset"
      ]
    },
    {
      "cell_type": "code",
      "metadata": {
        "id": "FCfbXkpawZDF",
        "colab_type": "code",
        "colab": {}
      },
      "source": [
        "import numpy\n",
        "from pandas import read_csv\n",
        "from keras.models import Sequential\n",
        "from keras.layers import Dense\n",
        "from keras.wrappers.scikit_learn import KerasClassifier\n",
        "from sklearn.model_selection import cross_val_score\n",
        "from sklearn.preprocessing import LabelEncoder\n",
        "from sklearn.model_selection import StratifiedKFold\n",
        "\n",
        "# fix random seed for reproducibility\n",
        "seed = 7\n",
        "numpy.random.seed(seed)\n",
        "\n",
        "# load dataset\n",
        "dataframe = read_csv(\"data/sonar.csv\", header=None)\n",
        "dataset = dataframe.values\n",
        "\n",
        "# split into input (X) and output (Y) variables\n",
        "X = dataset[:,0:60].astype(float)\n",
        "Y = dataset[:,60]\n",
        "\n",
        "# encode class values as integers\n",
        "# FILL BLANKS \n",
        "\n",
        "# baseline model\n",
        "# create model with 1 hidden layer of size 60 and 1 output layer.\n",
        "# the layers should have a 'normal' initialization of weights\n",
        "# compile the model with adam optimizer\n",
        "# FILL BLANKS \n",
        "\n",
        "# Split the data for training and testing\n",
        "train_x, test_x, train_y, test_y = train_test_split(X, encoded_Y, test_size=0.20)\n",
        "\n",
        "# Train the model\n",
        "model.fit(train_x, train_y, verbose=2, batch_size=5, epochs=100)\n",
        "\n",
        "# Test on unseen data\n",
        "results = model.evaluate(test_x, test_y)\n",
        "\n",
        "print('Final test set loss: {:4f}'.format(results[0]))\n",
        "print('Final test set accuracy: {:4f}'.format(results[1]))\n"
      ],
      "execution_count": 0,
      "outputs": []
    },
    {
      "cell_type": "markdown",
      "metadata": {
        "id": "NM41-G1B8J2L",
        "colab_type": "text"
      },
      "source": [
        "## Regression with Boston House Price dataset"
      ]
    },
    {
      "cell_type": "code",
      "metadata": {
        "id": "czDrPZGc8OJp",
        "colab_type": "code",
        "colab": {}
      },
      "source": [
        "# Regression Example With Boston Dataset\n",
        "import numpy\n",
        "import math\n",
        "from pandas import read_csv\n",
        "from keras.models import Sequential\n",
        "from keras.layers import Dense\n",
        "from keras.wrappers.scikit_learn import KerasRegressor\n",
        "from sklearn.model_selection import cross_val_score\n",
        "from sklearn.model_selection import KFold\n",
        "from sklearn.preprocessing import StandardScaler\n",
        "from sklearn.pipeline import Pipeline\n",
        "\n",
        "# load dataset\n",
        "dataframe = read_csv(\"data/housing.csv\", delim_whitespace=True, header=None)\n",
        "dataset = dataframe.values\n",
        "\n",
        "# split into input (X) and output (Y) variables\n",
        "X = dataset[:,0:13]\n",
        "Y = dataset[:,13]\n",
        "\n",
        "# define base model\n",
        "# create Sequential model with 1 hidden layer (size = input layer size)\n",
        "# create model\n",
        "# FILL BLANKS \n",
        "\n",
        "# fix random seed for reproducibility\n",
        "seed = 7\n",
        "numpy.random.seed(seed)\n",
        "\n",
        "# Split the data for training and testing\n",
        "train_x, test_x, train_y, test_y = train_test_split(X, Y, test_size=0.20)\n",
        "\n",
        "# Train the model\n",
        "model.fit(train_x, train_y, verbose=2, batch_size=5, epochs=100)\n",
        "\n",
        "# Test on unseen data\n",
        "results = model.evaluate(test_x, test_y)\n",
        "print('Test Score: %.2f MSE ' % (results))\n"
      ],
      "execution_count": 0,
      "outputs": []
    },
    {
      "cell_type": "markdown",
      "metadata": {
        "id": "KIN4-ApP-en1",
        "colab_type": "text"
      },
      "source": [
        "## Tune The Neural Network Topology\n",
        "### 1. Evaluate a deeper network"
      ]
    },
    {
      "cell_type": "code",
      "metadata": {
        "id": "WZ1CSjtx-pfs",
        "colab_type": "code",
        "colab": {}
      },
      "source": [
        "# deeper network"
      ],
      "execution_count": 0,
      "outputs": []
    },
    {
      "cell_type": "markdown",
      "metadata": {
        "id": "AYJif4by-sJ5",
        "colab_type": "text"
      },
      "source": [
        "### 2. Evaluate a wider network"
      ]
    },
    {
      "cell_type": "code",
      "metadata": {
        "id": "mabeX6IY-uN4",
        "colab_type": "code",
        "colab": {}
      },
      "source": [
        "# wider network"
      ],
      "execution_count": 0,
      "outputs": []
    }
  ]
}